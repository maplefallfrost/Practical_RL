{
 "cells": [
  {
   "cell_type": "markdown",
   "metadata": {},
   "source": [
    "# Approximate q-learning\n",
    "\n",
    "In this notebook you will teach a __tensorflow__ neural network to do Q-learning."
   ]
  },
  {
   "cell_type": "markdown",
   "metadata": {},
   "source": [
    "__Frameworks__ - we'll accept this homework in any deep learning framework. This particular notebook was designed for tensorflow, but you will find it easy to adapt it to almost any python-based deep learning framework."
   ]
  },
  {
   "cell_type": "code",
   "execution_count": 1,
   "metadata": {},
   "outputs": [
    {
     "name": "stdout",
     "output_type": "stream",
     "text": [
      "Starting virtual X frame buffer: Xvfb.\n",
      "env: DISPLAY=:1\n"
     ]
    }
   ],
   "source": [
    "#XVFB will be launched if you run on a server\n",
    "import os\n",
    "if os.environ.get(\"DISPLAY\") is not str or len(os.environ.get(\"DISPLAY\"))==0:\n",
    "    !bash ../xvfb start\n",
    "    %env DISPLAY=:1"
   ]
  },
  {
   "cell_type": "code",
   "execution_count": 2,
   "metadata": {},
   "outputs": [],
   "source": [
    "import gym\n",
    "import numpy as np\n",
    "import pandas as pd\n",
    "import matplotlib.pyplot as plt\n",
    "%matplotlib inline"
   ]
  },
  {
   "cell_type": "code",
   "execution_count": 3,
   "metadata": {
    "scrolled": false
   },
   "outputs": [
    {
     "data": {
      "text/plain": [
       "<matplotlib.image.AxesImage at 0x7ff940388e48>"
      ]
     },
     "execution_count": 3,
     "metadata": {},
     "output_type": "execute_result"
    },
    {
     "data": {
      "image/png": "[encoded data removed]",
      "text/plain": [
       "<Figure size 432x288 with 1 Axes>"
      ]
     },
     "metadata": {
      "needs_background": "light"
     },
     "output_type": "display_data"
    }
   ],
   "source": [
    "env = gym.make(\"CartPole-v0\").env\n",
    "env.reset()\n",
    "n_actions = env.action_space.n\n",
    "state_dim = env.observation_space.shape\n",
    "\n",
    "plt.imshow(env.render(\"rgb_array\"))"
   ]
  },
  {
   "cell_type": "markdown",
   "metadata": {},
   "source": [
    "# Approximate (deep) Q-learning: building the network\n",
    "\n",
    "To train a neural network policy one must have a neural network policy. Let's build it.\n",
    "\n",
    "\n",
    "Since we're working with a pre-extracted features (cart positions, angles and velocities), we don't need a complicated network yet. In fact, let's build something like this for starters:\n",
    "\n",
    "![img](https://s14.postimg.org/uzay2q5rl/qlearning_scheme.png)\n",
    "\n",
    "For your first run, please only use linear layers (L.Dense) and activations. Stuff like batch normalization or dropout may ruin everything if used haphazardly. \n",
    "\n",
    "Also please avoid using nonlinearities like sigmoid & tanh: agent's observations are not normalized so sigmoids may become saturated from init.\n",
    "\n",
    "Ideally you should start small with maybe 1-2 hidden layers with < 200 neurons and then increase network size if agent doesn't beat the target score."
   ]
  },
  {
   "cell_type": "code",
   "execution_count": 4,
   "metadata": {},
   "outputs": [
    {
     "name": "stderr",
     "output_type": "stream",
     "text": [
      "Using TensorFlow backend.\n"
     ]
    }
   ],
   "source": [
    "import tensorflow as tf\n",
    "import keras\n",
    "import keras.layers as L\n",
    "tf.reset_default_graph()\n",
    "sess = tf.InteractiveSession()\n",
    "keras.backend.set_session(sess)"
   ]
  },
  {
   "cell_type": "code",
   "execution_count": 5,
   "metadata": {},
   "outputs": [
    {
     "name": "stdout",
     "output_type": "stream",
     "text": [
      "WARNING:tensorflow:From /usr/local/lib/python3.5/dist-packages/tensorflow/python/framework/op_def_library.py:263: colocate_with (from tensorflow.python.framework.ops) is deprecated and will be removed in a future version.\n",
      "Instructions for updating:\n",
      "Colocations handled automatically by placer.\n"
     ]
    }
   ],
   "source": [
    "network = keras.models.Sequential()\n",
    "network.add(L.InputLayer(state_dim))\n",
    "\n",
    "# let's create a network for approximate q-learning following guidelines above\n",
    "# <YOUR CODE: stack more layers!!!1 >\n",
    "network.add(L.Dense(100, activation='relu'))\n",
    "network.add(L.Dense(n_actions))"
   ]
  },
  {
   "cell_type": "code",
   "execution_count": 8,
   "metadata": {},
   "outputs": [],
   "source": [
    "def get_action(state, epsilon=0):\n",
    "    \"\"\"\n",
    "    sample actions with epsilon-greedy policy\n",
    "    recap: with p = epsilon pick random action, else pick action with highest Q(s,a)\n",
    "    \"\"\"\n",
    "    \n",
    "    q_values = network.predict(state[None])[0]\n",
    "    \n",
    "    ###YOUR CODE\n",
    "    random_number = np.random.rand()\n",
    "    if random_number < epsilon:\n",
    "        chosen_action = np.random.randint(low=0, high=n_actions)\n",
    "    else:\n",
    "        chosen_action = np.argmax(q_values)\n",
    "\n",
    "    return chosen_action\n"
   ]
  },
  {
   "cell_type": "code",
   "execution_count": 9,
   "metadata": {},
   "outputs": [
    {
     "name": "stdout",
     "output_type": "stream",
     "text": [
      "e=0.0 tests passed\n",
      "e=0.1 tests passed\n",
      "e=0.5 tests passed\n",
      "e=1.0 tests passed\n"
     ]
    }
   ],
   "source": [
    "assert network.output_shape == (None, n_actions), \"please make sure your model maps state s -> [Q(s,a0), ..., Q(s, a_last)]\"\n",
    "assert network.layers[-1].activation == keras.activations.linear, \"please make sure you predict q-values without nonlinearity\"\n",
    "\n",
    "# test epsilon-greedy exploration\n",
    "s = env.reset()\n",
    "assert np.shape(get_action(s)) == (), \"please return just one action (integer)\"\n",
    "for eps in [0., 0.1, 0.5, 1.0]:\n",
    "    state_frequencies = np.bincount([get_action(s, epsilon=eps) for i in range(10000)], minlength=n_actions)\n",
    "    best_action = state_frequencies.argmax()\n",
    "    assert abs(state_frequencies[best_action] - 10000 * (1 - eps + eps / n_actions)) < 200\n",
    "    for other_action in range(n_actions):\n",
    "        if other_action != best_action:\n",
    "            assert abs(state_frequencies[other_action] - 10000 * (eps / n_actions)) < 200\n",
    "    print('e=%.1f tests passed'%eps)"
   ]
  },
  {
   "cell_type": "markdown",
   "metadata": {},
   "source": [
    "### Q-learning via gradient descent\n",
    "\n",
    "We shall now train our agent's Q-function by minimizing the TD loss:\n",
    "$$ L = { 1 \\over N} \\sum_i (Q_{\\theta}(s,a) - [r(s,a) + \\gamma \\cdot max_{a'} Q_{-}(s', a')]) ^2 $$\n",
    "\n",
    "\n",
    "Where\n",
    "* $s, a, r, s'$ are current state, action, reward and next state respectively\n",
    "* $\\gamma$ is a discount factor defined two cells above.\n",
    "\n",
    "The tricky part is with  $Q_{-}(s',a')$. From an engineering standpoint, it's the same as $Q_{\\theta}$ - the output of your neural network policy. However, when doing gradient descent, __we won't propagate gradients through it__ to make training more stable (see lectures).\n",
    "\n",
    "To do so, we shall use `tf.stop_gradient` function which basically says \"consider this thing constant when doingbackprop\"."
   ]
  },
  {
   "cell_type": "code",
   "execution_count": 10,
   "metadata": {},
   "outputs": [],
   "source": [
    "# Create placeholders for the <s, a, r, s'> tuple and a special indicator for game end (is_done = True)\n",
    "states_ph = keras.backend.placeholder(dtype='float32', shape=(None,) + state_dim)\n",
    "actions_ph = keras.backend.placeholder(dtype='int32', shape=[None])\n",
    "rewards_ph = keras.backend.placeholder(dtype='float32', shape=[None])\n",
    "next_states_ph = keras.backend.placeholder(dtype='float32', shape=(None,) + state_dim)\n",
    "is_done_ph = keras.backend.placeholder(dtype='bool', shape=[None])"
   ]
  },
  {
   "cell_type": "code",
   "execution_count": 11,
   "metadata": {},
   "outputs": [],
   "source": [
    "#get q-values for all actions in current states\n",
    "predicted_qvalues = network(states_ph)\n",
    "\n",
    "#select q-values for chosen actions\n",
    "predicted_qvalues_for_actions = tf.reduce_sum(predicted_qvalues * tf.one_hot(actions_ph, n_actions), axis=1)"
   ]
  },
  {
   "cell_type": "code",
   "execution_count": 12,
   "metadata": {},
   "outputs": [],
   "source": [
    "gamma = 0.99\n",
    "\n",
    "# compute q-values for all actions in next states\n",
    "# predicted_next_qvalues = <YOUR CODE - apply network to get q-values for next_states_ph>\n",
    "predicted_next_qvalues = network(next_states_ph)\n",
    "\n",
    "# compute V*(next_states) using predicted next q-values\n",
    "next_state_values = tf.reduce_max(predicted_next_qvalues, axis=1)\n",
    "\n",
    "# compute \"target q-values\" for loss - it's what's inside square parentheses in the above formula.\n",
    "target_qvalues_for_actions = rewards_ph + gamma * next_state_values\n",
    "\n",
    "# at the last state we shall use simplified formula: Q(s,a) = r(s,a) since s' doesn't exist\n",
    "target_qvalues_for_actions = tf.where(is_done_ph, rewards_ph, target_qvalues_for_actions)"
   ]
  },
  {
   "cell_type": "code",
   "execution_count": 13,
   "metadata": {},
   "outputs": [
    {
     "name": "stdout",
     "output_type": "stream",
     "text": [
      "WARNING:tensorflow:From /usr/local/lib/python3.5/dist-packages/tensorflow/python/ops/math_ops.py:3066: to_int32 (from tensorflow.python.ops.math_ops) is deprecated and will be removed in a future version.\n",
      "Instructions for updating:\n",
      "Use tf.cast instead.\n"
     ]
    }
   ],
   "source": [
    "#mean squared error loss to minimize\n",
    "loss = (predicted_qvalues_for_actions - tf.stop_gradient(target_qvalues_for_actions)) ** 2\n",
    "loss = tf.reduce_mean(loss)\n",
    "\n",
    "# training function that resembles agent.update(state, action, reward, next_state) from tabular agent\n",
    "train_step = tf.train.AdamOptimizer(1e-4).minimize(loss)"
   ]
  },
  {
   "cell_type": "code",
   "execution_count": 14,
   "metadata": {},
   "outputs": [],
   "source": [
    "assert tf.gradients(loss, [predicted_qvalues_for_actions])[0] is not None, \"make sure you update q-values for chosen actions and not just all actions\"\n",
    "assert tf.gradients(loss, [predicted_next_qvalues])[0] is None, \"make sure you don't propagate gradient w.r.t. Q_(s',a')\"\n",
    "assert predicted_next_qvalues.shape.ndims == 2, \"make sure you predicted q-values for all actions in next state\"\n",
    "assert next_state_values.shape.ndims == 1, \"make sure you computed V(s') as maximum over just the actions axis and not all axes\"\n",
    "assert target_qvalues_for_actions.shape.ndims == 1, \"there's something wrong with target q-values, they must be a vector\""
   ]
  },
  {
   "cell_type": "markdown",
   "metadata": {},
   "source": [
    "### Playing the game"
   ]
  },
  {
   "cell_type": "code",
   "execution_count": 15,
   "metadata": {},
   "outputs": [],
   "source": [
    "def generate_session(t_max=1000, epsilon=0, train=False):\n",
    "    \"\"\"play env with approximate q-learning agent and train it at the same time\"\"\"\n",
    "    total_reward = 0\n",
    "    s = env.reset()\n",
    "    \n",
    "    for t in range(t_max):\n",
    "        a = get_action(s, epsilon=epsilon)       \n",
    "        next_s, r, done, _ = env.step(a)\n",
    "        \n",
    "        if train:\n",
    "            sess.run(train_step,{\n",
    "                states_ph: [s], actions_ph: [a], rewards_ph: [r], \n",
    "                next_states_ph: [next_s], is_done_ph: [done]\n",
    "            })\n",
    "\n",
    "        total_reward += r\n",
    "        s = next_s\n",
    "        if done: break\n",
    "            \n",
    "    return total_reward"
   ]
  },
  {
   "cell_type": "code",
   "execution_count": 16,
   "metadata": {},
   "outputs": [],
   "source": [
    "epsilon = 0.5"
   ]
  },
  {
   "cell_type": "code",
   "execution_count": 17,
   "metadata": {
    "scrolled": true
   },
   "outputs": [
    {
     "name": "stdout",
     "output_type": "stream",
     "text": [
      "epoch #0\tmean reward = 29.490\tepsilon = 0.500\n",
      "epoch #1\tmean reward = 13.480\tepsilon = 0.495\n",
      "epoch #2\tmean reward = 13.740\tepsilon = 0.490\n",
      "epoch #3\tmean reward = 14.180\tepsilon = 0.485\n",
      "epoch #4\tmean reward = 13.040\tepsilon = 0.480\n",
      "epoch #5\tmean reward = 13.100\tepsilon = 0.475\n",
      "epoch #6\tmean reward = 14.070\tepsilon = 0.471\n",
      "epoch #7\tmean reward = 13.630\tepsilon = 0.466\n",
      "epoch #8\tmean reward = 17.850\tepsilon = 0.461\n",
      "epoch #9\tmean reward = 25.290\tepsilon = 0.457\n",
      "epoch #10\tmean reward = 18.480\tepsilon = 0.452\n",
      "epoch #11\tmean reward = 17.340\tepsilon = 0.448\n",
      "epoch #12\tmean reward = 35.660\tepsilon = 0.443\n",
      "epoch #13\tmean reward = 13.760\tepsilon = 0.439\n",
      "epoch #14\tmean reward = 13.950\tepsilon = 0.434\n",
      "epoch #15\tmean reward = 18.620\tepsilon = 0.430\n",
      "epoch #16\tmean reward = 12.950\tepsilon = 0.426\n",
      "epoch #17\tmean reward = 12.750\tepsilon = 0.421\n",
      "epoch #18\tmean reward = 17.980\tepsilon = 0.417\n",
      "epoch #19\tmean reward = 12.520\tepsilon = 0.413\n",
      "epoch #20\tmean reward = 13.500\tepsilon = 0.409\n",
      "epoch #21\tmean reward = 17.380\tepsilon = 0.405\n",
      "epoch #22\tmean reward = 12.430\tepsilon = 0.401\n",
      "epoch #23\tmean reward = 16.000\tepsilon = 0.397\n",
      "epoch #24\tmean reward = 11.800\tepsilon = 0.393\n",
      "epoch #25\tmean reward = 13.750\tepsilon = 0.389\n",
      "epoch #26\tmean reward = 15.990\tepsilon = 0.385\n",
      "epoch #27\tmean reward = 26.970\tepsilon = 0.381\n",
      "epoch #28\tmean reward = 16.390\tepsilon = 0.377\n",
      "epoch #29\tmean reward = 22.240\tepsilon = 0.374\n",
      "epoch #30\tmean reward = 21.810\tepsilon = 0.370\n",
      "epoch #31\tmean reward = 12.480\tepsilon = 0.366\n",
      "epoch #32\tmean reward = 23.380\tepsilon = 0.362\n",
      "epoch #33\tmean reward = 12.120\tepsilon = 0.359\n",
      "epoch #34\tmean reward = 21.670\tepsilon = 0.355\n",
      "epoch #35\tmean reward = 12.920\tepsilon = 0.352\n",
      "epoch #36\tmean reward = 23.140\tepsilon = 0.348\n",
      "epoch #37\tmean reward = 26.340\tepsilon = 0.345\n",
      "epoch #38\tmean reward = 34.490\tepsilon = 0.341\n",
      "epoch #39\tmean reward = 51.850\tepsilon = 0.338\n",
      "epoch #40\tmean reward = 48.810\tepsilon = 0.334\n",
      "epoch #41\tmean reward = 48.660\tepsilon = 0.331\n",
      "epoch #42\tmean reward = 41.130\tepsilon = 0.328\n",
      "epoch #43\tmean reward = 47.850\tepsilon = 0.325\n",
      "epoch #44\tmean reward = 49.100\tepsilon = 0.321\n",
      "epoch #45\tmean reward = 47.640\tepsilon = 0.318\n",
      "epoch #46\tmean reward = 51.890\tepsilon = 0.315\n",
      "epoch #47\tmean reward = 45.370\tepsilon = 0.312\n",
      "epoch #48\tmean reward = 52.820\tepsilon = 0.309\n",
      "epoch #49\tmean reward = 44.770\tepsilon = 0.306\n",
      "epoch #50\tmean reward = 53.860\tepsilon = 0.303\n",
      "epoch #51\tmean reward = 56.230\tepsilon = 0.299\n",
      "epoch #52\tmean reward = 58.050\tepsilon = 0.296\n",
      "epoch #53\tmean reward = 48.620\tepsilon = 0.294\n",
      "epoch #54\tmean reward = 58.800\tepsilon = 0.291\n",
      "epoch #55\tmean reward = 64.210\tepsilon = 0.288\n",
      "epoch #56\tmean reward = 71.550\tepsilon = 0.285\n",
      "epoch #57\tmean reward = 102.260\tepsilon = 0.282\n",
      "epoch #58\tmean reward = 14.250\tepsilon = 0.279\n",
      "epoch #59\tmean reward = 29.320\tepsilon = 0.276\n",
      "epoch #60\tmean reward = 27.210\tepsilon = 0.274\n",
      "epoch #61\tmean reward = 18.150\tepsilon = 0.271\n",
      "epoch #62\tmean reward = 105.270\tepsilon = 0.268\n",
      "epoch #63\tmean reward = 124.150\tepsilon = 0.265\n",
      "epoch #64\tmean reward = 69.900\tepsilon = 0.263\n",
      "epoch #65\tmean reward = 87.290\tepsilon = 0.260\n",
      "epoch #66\tmean reward = 82.930\tepsilon = 0.258\n",
      "epoch #67\tmean reward = 88.340\tepsilon = 0.255\n",
      "epoch #68\tmean reward = 102.090\tepsilon = 0.252\n",
      "epoch #69\tmean reward = 108.030\tepsilon = 0.250\n",
      "epoch #70\tmean reward = 108.240\tepsilon = 0.247\n",
      "epoch #71\tmean reward = 119.020\tepsilon = 0.245\n",
      "epoch #72\tmean reward = 146.440\tepsilon = 0.242\n",
      "epoch #73\tmean reward = 164.710\tepsilon = 0.240\n",
      "epoch #74\tmean reward = 116.680\tepsilon = 0.238\n",
      "epoch #75\tmean reward = 11.510\tepsilon = 0.235\n",
      "epoch #76\tmean reward = 27.300\tepsilon = 0.233\n",
      "epoch #77\tmean reward = 10.930\tepsilon = 0.231\n",
      "epoch #78\tmean reward = 10.870\tepsilon = 0.228\n",
      "epoch #79\tmean reward = 27.820\tepsilon = 0.226\n",
      "epoch #80\tmean reward = 10.510\tepsilon = 0.224\n",
      "epoch #81\tmean reward = 63.620\tepsilon = 0.222\n",
      "epoch #82\tmean reward = 182.480\tepsilon = 0.219\n",
      "epoch #83\tmean reward = 253.510\tepsilon = 0.217\n",
      "epoch #84\tmean reward = 18.550\tepsilon = 0.215\n",
      "epoch #85\tmean reward = 18.810\tepsilon = 0.213\n",
      "epoch #86\tmean reward = 27.560\tepsilon = 0.211\n",
      "epoch #87\tmean reward = 28.230\tepsilon = 0.209\n",
      "epoch #88\tmean reward = 10.290\tepsilon = 0.206\n",
      "epoch #89\tmean reward = 11.180\tepsilon = 0.204\n",
      "epoch #90\tmean reward = 30.160\tepsilon = 0.202\n",
      "epoch #91\tmean reward = 130.770\tepsilon = 0.200\n",
      "epoch #92\tmean reward = 69.140\tepsilon = 0.198\n",
      "epoch #93\tmean reward = 148.330\tepsilon = 0.196\n",
      "epoch #94\tmean reward = 140.060\tepsilon = 0.194\n",
      "epoch #95\tmean reward = 133.170\tepsilon = 0.192\n",
      "epoch #96\tmean reward = 153.180\tepsilon = 0.191\n",
      "epoch #97\tmean reward = 92.170\tepsilon = 0.189\n",
      "epoch #98\tmean reward = 160.350\tepsilon = 0.187\n",
      "epoch #99\tmean reward = 275.960\tepsilon = 0.185\n",
      "epoch #100\tmean reward = 78.650\tepsilon = 0.183\n",
      "epoch #101\tmean reward = 167.840\tepsilon = 0.181\n",
      "epoch #102\tmean reward = 201.300\tepsilon = 0.179\n",
      "epoch #103\tmean reward = 33.620\tepsilon = 0.178\n",
      "epoch #104\tmean reward = 12.640\tepsilon = 0.176\n",
      "epoch #105\tmean reward = 48.930\tepsilon = 0.174\n",
      "epoch #106\tmean reward = 61.660\tepsilon = 0.172\n",
      "epoch #107\tmean reward = 67.840\tepsilon = 0.171\n",
      "epoch #108\tmean reward = 54.630\tepsilon = 0.169\n",
      "epoch #109\tmean reward = 51.230\tepsilon = 0.167\n",
      "epoch #110\tmean reward = 54.220\tepsilon = 0.166\n",
      "epoch #111\tmean reward = 76.560\tepsilon = 0.164\n",
      "epoch #112\tmean reward = 137.920\tepsilon = 0.162\n",
      "epoch #113\tmean reward = 16.340\tepsilon = 0.161\n",
      "epoch #114\tmean reward = 201.630\tepsilon = 0.159\n",
      "epoch #115\tmean reward = 83.460\tepsilon = 0.157\n",
      "epoch #116\tmean reward = 124.010\tepsilon = 0.156\n",
      "epoch #117\tmean reward = 187.860\tepsilon = 0.154\n",
      "epoch #118\tmean reward = 18.960\tepsilon = 0.153\n",
      "epoch #119\tmean reward = 156.040\tepsilon = 0.151\n",
      "epoch #120\tmean reward = 104.120\tepsilon = 0.150\n",
      "epoch #121\tmean reward = 96.400\tepsilon = 0.148\n",
      "epoch #122\tmean reward = 171.770\tepsilon = 0.147\n",
      "epoch #123\tmean reward = 148.430\tepsilon = 0.145\n",
      "epoch #124\tmean reward = 214.250\tepsilon = 0.144\n",
      "epoch #125\tmean reward = 227.310\tepsilon = 0.142\n",
      "epoch #126\tmean reward = 246.490\tepsilon = 0.141\n",
      "epoch #127\tmean reward = 116.490\tepsilon = 0.140\n",
      "epoch #128\tmean reward = 316.830\tepsilon = 0.138\n",
      "You Win!\n"
     ]
    }
   ],
   "source": [
    "for i in range(1000):\n",
    "    session_rewards = [generate_session(epsilon=epsilon, train=True) for _ in range(100)]\n",
    "    print(\"epoch #{}\\tmean reward = {:.3f}\\tepsilon = {:.3f}\".format(i, np.mean(session_rewards), epsilon))\n",
    "    \n",
    "    epsilon *= 0.99\n",
    "    assert epsilon >= 1e-4, \"Make sure epsilon is always nonzero during training\"\n",
    "    \n",
    "    if np.mean(session_rewards) > 300:\n",
    "        print (\"You Win!\")\n",
    "        break\n"
   ]
  },
  {
   "cell_type": "markdown",
   "metadata": {},
   "source": [
    "### How to interpret results\n",
    "\n",
    "\n",
    "Welcome to the f.. world of deep f...n reinforcement learning. Don't expect agent's reward to smoothly go up. Hope for it to go increase eventually. If it deems you worthy.\n",
    "\n",
    "Seriously though,\n",
    "* __ mean reward__ is the average reward per game. For a correct implementation it may stay low for some 10 epochs, then start growing while oscilating insanely and converges by ~50-100 steps depending on the network architecture. \n",
    "* If it never reaches target score by the end of for loop, try increasing the number of hidden neurons or look at the epsilon.\n",
    "* __ epsilon__ - agent's willingness to explore. If you see that agent's already at < 0.01 epsilon before it's is at least 200, just reset it back to 0.1 - 0.5."
   ]
  },
  {
   "cell_type": "markdown",
   "metadata": {},
   "source": [
    "### Record videos\n",
    "\n",
    "As usual, we now use `gym.wrappers.Monitor` to record a video of our agent playing the game. Unlike our previous attempts with state binarization, this time we expect our agent to act ~~(or fail)~~ more smoothly since there's no more binarization error at play.\n",
    "\n",
    "As you already did with tabular q-learning, we set epsilon=0 for final evaluation to prevent agent from exploring himself to death."
   ]
  },
  {
   "cell_type": "code",
   "execution_count": 18,
   "metadata": {
    "scrolled": true
   },
   "outputs": [],
   "source": [
    "#record sessions\n",
    "import gym.wrappers\n",
    "env = gym.wrappers.Monitor(gym.make(\"CartPole-v0\"),directory=\"videos\",force=True)\n",
    "sessions = [generate_session(epsilon=0, train=False) for _ in range(100)]\n",
    "env.close()\n"
   ]
  },
  {
   "cell_type": "code",
   "execution_count": 19,
   "metadata": {},
   "outputs": [
    {
     "data": {
      "text/html": [
       "\n",
       "<video width=\"640\" height=\"480\" controls>\n",
       "  <source src=\"./videos/openaigym.video.0.28.video000064.mp4\" type=\"video/mp4\">\n",
       "</video>\n"
      ],
      "text/plain": [
       "<IPython.core.display.HTML object>"
      ]
     },
     "execution_count": 19,
     "metadata": {},
     "output_type": "execute_result"
    }
   ],
   "source": [
    "#show video\n",
    "from IPython.display import HTML\n",
    "import os\n",
    "\n",
    "video_names = list(filter(lambda s:s.endswith(\".mp4\"),os.listdir(\"./videos/\")))\n",
    "\n",
    "HTML(\"\"\"\n",
    "<video width=\"640\" height=\"480\" controls>\n",
    "  <source src=\"{}\" type=\"video/mp4\">\n",
    "</video>\n",
    "\"\"\".format(\"./videos/\"+video_names[-1])) #this may or may not be _last_ video. Try other indices"
   ]
  },
  {
   "cell_type": "code",
   "execution_count": null,
   "metadata": {
    "collapsed": true
   },
   "outputs": [],
   "source": []
  },
  {
   "cell_type": "markdown",
   "metadata": {},
   "source": [
    "---"
   ]
  },
  {
   "cell_type": "markdown",
   "metadata": {
    "collapsed": true
   },
   "source": [
    "### Submit to coursera"
   ]
  },
  {
   "cell_type": "code",
   "execution_count": null,
   "metadata": {},
   "outputs": [],
   "source": [
    "from submit import submit_cartpole\n",
    "submit_cartpole(generate_session, \"lkjslkjdlk@163.com\", \"Ov3NhXx2Eh9D63Nb\")"
   ]
  },
  {
   "cell_type": "code",
   "execution_count": 21,
   "metadata": {},
   "outputs": [
    {
     "name": "stdout",
     "output_type": "stream",
     "text": [
      "Submitted to Coursera platform. See results on assignment page!\n"
     ]
    }
   ],
   "source": [
    "#from submit import submit_cartpole\n",
    "import sys\n",
    "import numpy as np\n",
    "sys.path.append(\"..\")\n",
    "import grading\n",
    "\n",
    "def submit_cartpole(generate_session, email, token):\n",
    "    sessions = [generate_session() for _ in range(100)]\n",
    "    #session_rewards, _, _ = map(np.array, zip(*sessions))\n",
    "    session_rewards = np.array(sessions)\n",
    "    grader = grading.Grader(\"RDofv-QXEeeaGw6kpIOf3g\")\n",
    "    grader.set_answer(\"NRNkl\", int(np.mean(session_rewards)))\n",
    "    grader.submit(email, token)\n",
    "\n",
    "submit_cartpole(generate_session, 'lkjslkjdlk@163.com', 'Ov3NhXx2Eh9D63Nb')"
   ]
  },
  {
   "cell_type": "code",
   "execution_count": null,
   "metadata": {},
   "outputs": [],
   "source": []
  }
 ],
 "metadata": {
  "anaconda-cloud": {},
  "kernelspec": {
   "display_name": "Python 3",
   "language": "python",
   "name": "python3"
  },
  "language_info": {
   "codemirror_mode": {
    "name": "ipython",
    "version": 3
   },
   "file_extension": ".py",
   "mimetype": "text/x-python",
   "name": "python",
   "nbconvert_exporter": "python",
   "pygments_lexer": "ipython3",
   "version": "3.6.6"
  }
 },
 "nbformat": 4,
 "nbformat_minor": 1
}
